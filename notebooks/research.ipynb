{
 "cells": [
  {
   "cell_type": "markdown",
   "metadata": {},
   "source": [
    "# K-Segmentation For Sequence Data\n",
    "Author: Rafael Zamora\n",
    "\n",
    "## Overview\n",
    "\n",
    "This project contains a Python implementation of the Bellman k-segmentation\n",
    "algorithm as described in this [blog](http://homepages.spa.umn.edu/~willmert/science/ksegments/).\n",
    "The algorithm generates a segmented constant-line fit to a data series, which\n",
    "is useful in finding unique clusters along sequentially ordered data."
   ]
  },
  {
   "cell_type": "code",
   "execution_count": null,
   "metadata": {},
   "outputs": [],
   "source": []
  }
 ],
 "metadata": {
  "kernelspec": {
   "display_name": "Python 3",
   "language": "python",
   "name": "python3"
  },
  "language_info": {
   "codemirror_mode": {
    "name": "ipython",
    "version": 3
   },
   "file_extension": ".py",
   "mimetype": "text/x-python",
   "name": "python",
   "nbconvert_exporter": "python",
   "pygments_lexer": "ipython3",
   "version": "3.7.2"
  }
 },
 "nbformat": 4,
 "nbformat_minor": 2
}
